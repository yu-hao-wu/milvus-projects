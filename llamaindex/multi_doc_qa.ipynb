{
 "cells": [
  {
   "cell_type": "code",
   "execution_count": 6,
   "metadata": {},
   "outputs": [
    {
     "name": "stdout",
     "output_type": "stream",
     "text": [
      "Requirement already satisfied: llama-index in /Users/Yuhao/.pyenv/versions/3.12.2/lib/python3.12/site-packages (0.10.30)\n",
      "Requirement already satisfied: nltk in /Users/Yuhao/.pyenv/versions/3.12.2/lib/python3.12/site-packages (3.8.1)\n",
      "Requirement already satisfied: milvus in /Users/Yuhao/.pyenv/versions/3.12.2/lib/python3.12/site-packages (2.3.8)\n",
      "Requirement already satisfied: pymilvus in /Users/Yuhao/.pyenv/versions/3.12.2/lib/python3.12/site-packages (2.4.0)\n",
      "Requirement already satisfied: langchain in /Users/Yuhao/.pyenv/versions/3.12.2/lib/python3.12/site-packages (0.1.16)\n",
      "Requirement already satisfied: openai in /Users/Yuhao/.pyenv/versions/3.12.2/lib/python3.12/site-packages (1.23.2)\n",
      "Requirement already satisfied: python-dotenv in /Users/Yuhao/.pyenv/versions/3.12.2/lib/python3.12/site-packages (1.0.1)\n",
      "Requirement already satisfied: requests in /Users/Yuhao/.pyenv/versions/3.12.2/lib/python3.12/site-packages (2.31.0)\n",
      "Requirement already satisfied: llama-index-vector-stores-milvus in /Users/Yuhao/.pyenv/versions/3.12.2/lib/python3.12/site-packages (0.1.10)\n",
      "Requirement already satisfied: langchain-openai in /Users/Yuhao/.pyenv/versions/3.12.2/lib/python3.12/site-packages (0.1.3)\n",
      "Requirement already satisfied: llama-index-agent-openai<0.3.0,>=0.1.4 in /Users/Yuhao/.pyenv/versions/3.12.2/lib/python3.12/site-packages (from llama-index) (0.2.2)\n",
      "Requirement already satisfied: llama-index-cli<0.2.0,>=0.1.2 in /Users/Yuhao/.pyenv/versions/3.12.2/lib/python3.12/site-packages (from llama-index) (0.1.12)\n",
      "Requirement already satisfied: llama-index-core<0.11.0,>=0.10.30 in /Users/Yuhao/.pyenv/versions/3.12.2/lib/python3.12/site-packages (from llama-index) (0.10.30)\n",
      "Requirement already satisfied: llama-index-embeddings-openai<0.2.0,>=0.1.5 in /Users/Yuhao/.pyenv/versions/3.12.2/lib/python3.12/site-packages (from llama-index) (0.1.8)\n",
      "Requirement already satisfied: llama-index-indices-managed-llama-cloud<0.2.0,>=0.1.2 in /Users/Yuhao/.pyenv/versions/3.12.2/lib/python3.12/site-packages (from llama-index) (0.1.5)\n",
      "Requirement already satisfied: llama-index-legacy<0.10.0,>=0.9.48 in /Users/Yuhao/.pyenv/versions/3.12.2/lib/python3.12/site-packages (from llama-index) (0.9.48)\n",
      "Requirement already satisfied: llama-index-llms-openai<0.2.0,>=0.1.13 in /Users/Yuhao/.pyenv/versions/3.12.2/lib/python3.12/site-packages (from llama-index) (0.1.16)\n",
      "Requirement already satisfied: llama-index-multi-modal-llms-openai<0.2.0,>=0.1.3 in /Users/Yuhao/.pyenv/versions/3.12.2/lib/python3.12/site-packages (from llama-index) (0.1.5)\n",
      "Requirement already satisfied: llama-index-program-openai<0.2.0,>=0.1.3 in /Users/Yuhao/.pyenv/versions/3.12.2/lib/python3.12/site-packages (from llama-index) (0.1.5)\n",
      "Requirement already satisfied: llama-index-question-gen-openai<0.2.0,>=0.1.2 in /Users/Yuhao/.pyenv/versions/3.12.2/lib/python3.12/site-packages (from llama-index) (0.1.3)\n",
      "Requirement already satisfied: llama-index-readers-file<0.2.0,>=0.1.4 in /Users/Yuhao/.pyenv/versions/3.12.2/lib/python3.12/site-packages (from llama-index) (0.1.19)\n",
      "Requirement already satisfied: llama-index-readers-llama-parse<0.2.0,>=0.1.2 in /Users/Yuhao/.pyenv/versions/3.12.2/lib/python3.12/site-packages (from llama-index) (0.1.4)\n",
      "Requirement already satisfied: click in /Users/Yuhao/.pyenv/versions/3.12.2/lib/python3.12/site-packages (from nltk) (8.1.7)\n",
      "Requirement already satisfied: joblib in /Users/Yuhao/.pyenv/versions/3.12.2/lib/python3.12/site-packages (from nltk) (1.4.0)\n",
      "Requirement already satisfied: regex>=2021.8.3 in /Users/Yuhao/.pyenv/versions/3.12.2/lib/python3.12/site-packages (from nltk) (2024.4.16)\n",
      "Requirement already satisfied: tqdm in /Users/Yuhao/.pyenv/versions/3.12.2/lib/python3.12/site-packages (from nltk) (4.66.2)\n",
      "Requirement already satisfied: setuptools>=67 in /Users/Yuhao/.pyenv/versions/3.12.2/lib/python3.12/site-packages (from pymilvus) (69.5.1)\n",
      "Requirement already satisfied: grpcio<=1.60.0,>=1.49.1 in /Users/Yuhao/.pyenv/versions/3.12.2/lib/python3.12/site-packages (from pymilvus) (1.60.0)\n",
      "Requirement already satisfied: protobuf>=3.20.0 in /Users/Yuhao/.pyenv/versions/3.12.2/lib/python3.12/site-packages (from pymilvus) (5.26.1)\n",
      "Requirement already satisfied: environs<=9.5.0 in /Users/Yuhao/.pyenv/versions/3.12.2/lib/python3.12/site-packages (from pymilvus) (9.5.0)\n",
      "Requirement already satisfied: ujson>=2.0.0 in /Users/Yuhao/.pyenv/versions/3.12.2/lib/python3.12/site-packages (from pymilvus) (5.9.0)\n",
      "Requirement already satisfied: pandas>=1.2.4 in /Users/Yuhao/.pyenv/versions/3.12.2/lib/python3.12/site-packages (from pymilvus) (2.2.2)\n",
      "Requirement already satisfied: minio>=7.0.0 in /Users/Yuhao/.pyenv/versions/3.12.2/lib/python3.12/site-packages (from pymilvus) (7.2.5)\n",
      "Requirement already satisfied: pyarrow>=12.0.0 in /Users/Yuhao/.pyenv/versions/3.12.2/lib/python3.12/site-packages (from pymilvus) (16.0.0)\n",
      "Requirement already satisfied: azure-storage-blob in /Users/Yuhao/.pyenv/versions/3.12.2/lib/python3.12/site-packages (from pymilvus) (12.19.1)\n",
      "Requirement already satisfied: scipy in /Users/Yuhao/.pyenv/versions/3.12.2/lib/python3.12/site-packages (from pymilvus) (1.13.0)\n",
      "Requirement already satisfied: PyYAML>=5.3 in /Users/Yuhao/.pyenv/versions/3.12.2/lib/python3.12/site-packages (from langchain) (6.0.1)\n",
      "Requirement already satisfied: SQLAlchemy<3,>=1.4 in /Users/Yuhao/.pyenv/versions/3.12.2/lib/python3.12/site-packages (from langchain) (2.0.29)\n",
      "Requirement already satisfied: aiohttp<4.0.0,>=3.8.3 in /Users/Yuhao/.pyenv/versions/3.12.2/lib/python3.12/site-packages (from langchain) (3.9.5)\n",
      "Requirement already satisfied: dataclasses-json<0.7,>=0.5.7 in /Users/Yuhao/.pyenv/versions/3.12.2/lib/python3.12/site-packages (from langchain) (0.6.4)\n",
      "Requirement already satisfied: jsonpatch<2.0,>=1.33 in /Users/Yuhao/.pyenv/versions/3.12.2/lib/python3.12/site-packages (from langchain) (1.33)\n",
      "Requirement already satisfied: langchain-community<0.1,>=0.0.32 in /Users/Yuhao/.pyenv/versions/3.12.2/lib/python3.12/site-packages (from langchain) (0.0.34)\n",
      "Requirement already satisfied: langchain-core<0.2.0,>=0.1.42 in /Users/Yuhao/.pyenv/versions/3.12.2/lib/python3.12/site-packages (from langchain) (0.1.45)\n",
      "Requirement already satisfied: langchain-text-splitters<0.1,>=0.0.1 in /Users/Yuhao/.pyenv/versions/3.12.2/lib/python3.12/site-packages (from langchain) (0.0.1)\n",
      "Requirement already satisfied: langsmith<0.2.0,>=0.1.17 in /Users/Yuhao/.pyenv/versions/3.12.2/lib/python3.12/site-packages (from langchain) (0.1.49)\n",
      "Requirement already satisfied: numpy<2,>=1 in /Users/Yuhao/.pyenv/versions/3.12.2/lib/python3.12/site-packages (from langchain) (1.26.4)\n",
      "Requirement already satisfied: pydantic<3,>=1 in /Users/Yuhao/.pyenv/versions/3.12.2/lib/python3.12/site-packages (from langchain) (2.7.0)\n",
      "Requirement already satisfied: tenacity<9.0.0,>=8.1.0 in /Users/Yuhao/.pyenv/versions/3.12.2/lib/python3.12/site-packages (from langchain) (8.2.3)\n",
      "Requirement already satisfied: anyio<5,>=3.5.0 in /Users/Yuhao/.pyenv/versions/3.12.2/lib/python3.12/site-packages (from openai) (4.3.0)\n",
      "Requirement already satisfied: distro<2,>=1.7.0 in /Users/Yuhao/.pyenv/versions/3.12.2/lib/python3.12/site-packages (from openai) (1.9.0)\n",
      "Requirement already satisfied: httpx<1,>=0.23.0 in /Users/Yuhao/.pyenv/versions/3.12.2/lib/python3.12/site-packages (from openai) (0.27.0)\n",
      "Requirement already satisfied: sniffio in /Users/Yuhao/.pyenv/versions/3.12.2/lib/python3.12/site-packages (from openai) (1.3.1)\n",
      "Requirement already satisfied: typing-extensions<5,>=4.7 in /Users/Yuhao/.pyenv/versions/3.12.2/lib/python3.12/site-packages (from openai) (4.11.0)\n",
      "Requirement already satisfied: charset-normalizer<4,>=2 in /Users/Yuhao/.pyenv/versions/3.12.2/lib/python3.12/site-packages (from requests) (3.3.2)\n",
      "Requirement already satisfied: idna<4,>=2.5 in /Users/Yuhao/.pyenv/versions/3.12.2/lib/python3.12/site-packages (from requests) (3.7)\n",
      "Requirement already satisfied: urllib3<3,>=1.21.1 in /Users/Yuhao/.pyenv/versions/3.12.2/lib/python3.12/site-packages (from requests) (2.2.1)\n",
      "Requirement already satisfied: certifi>=2017.4.17 in /Users/Yuhao/.pyenv/versions/3.12.2/lib/python3.12/site-packages (from requests) (2024.2.2)\n",
      "Requirement already satisfied: tiktoken<1,>=0.5.2 in /Users/Yuhao/.pyenv/versions/3.12.2/lib/python3.12/site-packages (from langchain-openai) (0.6.0)\n",
      "Requirement already satisfied: aiosignal>=1.1.2 in /Users/Yuhao/.pyenv/versions/3.12.2/lib/python3.12/site-packages (from aiohttp<4.0.0,>=3.8.3->langchain) (1.3.1)\n",
      "Requirement already satisfied: attrs>=17.3.0 in /Users/Yuhao/.pyenv/versions/3.12.2/lib/python3.12/site-packages (from aiohttp<4.0.0,>=3.8.3->langchain) (23.2.0)\n",
      "Requirement already satisfied: frozenlist>=1.1.1 in /Users/Yuhao/.pyenv/versions/3.12.2/lib/python3.12/site-packages (from aiohttp<4.0.0,>=3.8.3->langchain) (1.4.1)\n",
      "Requirement already satisfied: multidict<7.0,>=4.5 in /Users/Yuhao/.pyenv/versions/3.12.2/lib/python3.12/site-packages (from aiohttp<4.0.0,>=3.8.3->langchain) (6.0.5)\n",
      "Requirement already satisfied: yarl<2.0,>=1.0 in /Users/Yuhao/.pyenv/versions/3.12.2/lib/python3.12/site-packages (from aiohttp<4.0.0,>=3.8.3->langchain) (1.9.4)\n",
      "Requirement already satisfied: marshmallow<4.0.0,>=3.18.0 in /Users/Yuhao/.pyenv/versions/3.12.2/lib/python3.12/site-packages (from dataclasses-json<0.7,>=0.5.7->langchain) (3.21.1)\n",
      "Requirement already satisfied: typing-inspect<1,>=0.4.0 in /Users/Yuhao/.pyenv/versions/3.12.2/lib/python3.12/site-packages (from dataclasses-json<0.7,>=0.5.7->langchain) (0.9.0)\n",
      "Requirement already satisfied: httpcore==1.* in /Users/Yuhao/.pyenv/versions/3.12.2/lib/python3.12/site-packages (from httpx<1,>=0.23.0->openai) (1.0.5)\n",
      "Requirement already satisfied: h11<0.15,>=0.13 in /Users/Yuhao/.pyenv/versions/3.12.2/lib/python3.12/site-packages (from httpcore==1.*->httpx<1,>=0.23.0->openai) (0.14.0)\n",
      "Requirement already satisfied: jsonpointer>=1.9 in /Users/Yuhao/.pyenv/versions/3.12.2/lib/python3.12/site-packages (from jsonpatch<2.0,>=1.33->langchain) (2.4)\n",
      "Requirement already satisfied: packaging<24.0,>=23.2 in /Users/Yuhao/.pyenv/versions/3.12.2/lib/python3.12/site-packages (from langchain-core<0.2.0,>=0.1.42->langchain) (23.2)\n",
      "Requirement already satisfied: orjson<4.0.0,>=3.9.14 in /Users/Yuhao/.pyenv/versions/3.12.2/lib/python3.12/site-packages (from langsmith<0.2.0,>=0.1.17->langchain) (3.10.1)\n",
      "Requirement already satisfied: deprecated>=1.2.9.3 in /Users/Yuhao/.pyenv/versions/3.12.2/lib/python3.12/site-packages (from llama-index-core<0.11.0,>=0.10.30->llama-index) (1.2.14)\n",
      "Requirement already satisfied: dirtyjson<2.0.0,>=1.0.8 in /Users/Yuhao/.pyenv/versions/3.12.2/lib/python3.12/site-packages (from llama-index-core<0.11.0,>=0.10.30->llama-index) (1.0.8)\n",
      "Requirement already satisfied: fsspec>=2023.5.0 in /Users/Yuhao/.pyenv/versions/3.12.2/lib/python3.12/site-packages (from llama-index-core<0.11.0,>=0.10.30->llama-index) (2024.3.1)\n",
      "Requirement already satisfied: llamaindex-py-client<0.2.0,>=0.1.18 in /Users/Yuhao/.pyenv/versions/3.12.2/lib/python3.12/site-packages (from llama-index-core<0.11.0,>=0.10.30->llama-index) (0.1.18)\n",
      "Requirement already satisfied: nest-asyncio<2.0.0,>=1.5.8 in /Users/Yuhao/.pyenv/versions/3.12.2/lib/python3.12/site-packages (from llama-index-core<0.11.0,>=0.10.30->llama-index) (1.6.0)\n",
      "Requirement already satisfied: networkx>=3.0 in /Users/Yuhao/.pyenv/versions/3.12.2/lib/python3.12/site-packages (from llama-index-core<0.11.0,>=0.10.30->llama-index) (3.3)\n",
      "Requirement already satisfied: pillow>=9.0.0 in /Users/Yuhao/.pyenv/versions/3.12.2/lib/python3.12/site-packages (from llama-index-core<0.11.0,>=0.10.30->llama-index) (10.3.0)\n",
      "Requirement already satisfied: wrapt in /Users/Yuhao/.pyenv/versions/3.12.2/lib/python3.12/site-packages (from llama-index-core<0.11.0,>=0.10.30->llama-index) (1.16.0)\n",
      "Requirement already satisfied: beautifulsoup4<5.0.0,>=4.12.3 in /Users/Yuhao/.pyenv/versions/3.12.2/lib/python3.12/site-packages (from llama-index-readers-file<0.2.0,>=0.1.4->llama-index) (4.12.3)\n",
      "Requirement already satisfied: pypdf<5.0.0,>=4.0.1 in /Users/Yuhao/.pyenv/versions/3.12.2/lib/python3.12/site-packages (from llama-index-readers-file<0.2.0,>=0.1.4->llama-index) (4.2.0)\n",
      "Requirement already satisfied: striprtf<0.0.27,>=0.0.26 in /Users/Yuhao/.pyenv/versions/3.12.2/lib/python3.12/site-packages (from llama-index-readers-file<0.2.0,>=0.1.4->llama-index) (0.0.26)\n",
      "Requirement already satisfied: llama-parse<0.5.0,>=0.4.0 in /Users/Yuhao/.pyenv/versions/3.12.2/lib/python3.12/site-packages (from llama-index-readers-llama-parse<0.2.0,>=0.1.2->llama-index) (0.4.1)\n",
      "Requirement already satisfied: argon2-cffi in /Users/Yuhao/.pyenv/versions/3.12.2/lib/python3.12/site-packages (from minio>=7.0.0->pymilvus) (23.1.0)\n",
      "Requirement already satisfied: pycryptodome in /Users/Yuhao/.pyenv/versions/3.12.2/lib/python3.12/site-packages (from minio>=7.0.0->pymilvus) (3.20.0)\n",
      "Requirement already satisfied: python-dateutil>=2.8.2 in /Users/Yuhao/.pyenv/versions/3.12.2/lib/python3.12/site-packages (from pandas>=1.2.4->pymilvus) (2.9.0.post0)\n",
      "Requirement already satisfied: pytz>=2020.1 in /Users/Yuhao/.pyenv/versions/3.12.2/lib/python3.12/site-packages (from pandas>=1.2.4->pymilvus) (2024.1)\n",
      "Requirement already satisfied: tzdata>=2022.7 in /Users/Yuhao/.pyenv/versions/3.12.2/lib/python3.12/site-packages (from pandas>=1.2.4->pymilvus) (2024.1)\n",
      "Requirement already satisfied: annotated-types>=0.4.0 in /Users/Yuhao/.pyenv/versions/3.12.2/lib/python3.12/site-packages (from pydantic<3,>=1->langchain) (0.6.0)\n",
      "Requirement already satisfied: pydantic-core==2.18.1 in /Users/Yuhao/.pyenv/versions/3.12.2/lib/python3.12/site-packages (from pydantic<3,>=1->langchain) (2.18.1)\n",
      "Requirement already satisfied: azure-core<2.0.0,>=1.28.0 in /Users/Yuhao/.pyenv/versions/3.12.2/lib/python3.12/site-packages (from azure-storage-blob->pymilvus) (1.30.1)\n",
      "Requirement already satisfied: cryptography>=2.1.4 in /Users/Yuhao/.pyenv/versions/3.12.2/lib/python3.12/site-packages (from azure-storage-blob->pymilvus) (42.0.5)\n",
      "Requirement already satisfied: isodate>=0.6.1 in /Users/Yuhao/.pyenv/versions/3.12.2/lib/python3.12/site-packages (from azure-storage-blob->pymilvus) (0.6.1)\n",
      "Requirement already satisfied: six>=1.11.0 in /Users/Yuhao/.pyenv/versions/3.12.2/lib/python3.12/site-packages (from azure-core<2.0.0,>=1.28.0->azure-storage-blob->pymilvus) (1.16.0)\n",
      "Requirement already satisfied: soupsieve>1.2 in /Users/Yuhao/.pyenv/versions/3.12.2/lib/python3.12/site-packages (from beautifulsoup4<5.0.0,>=4.12.3->llama-index-readers-file<0.2.0,>=0.1.4->llama-index) (2.5)\n",
      "Requirement already satisfied: cffi>=1.12 in /Users/Yuhao/.pyenv/versions/3.12.2/lib/python3.12/site-packages (from cryptography>=2.1.4->azure-storage-blob->pymilvus) (1.16.0)\n",
      "Requirement already satisfied: greenlet!=0.4.17 in /Users/Yuhao/.pyenv/versions/3.12.2/lib/python3.12/site-packages (from SQLAlchemy[asyncio]>=1.4.49->llama-index-core<0.11.0,>=0.10.30->llama-index) (3.0.3)\n",
      "Requirement already satisfied: mypy-extensions>=0.3.0 in /Users/Yuhao/.pyenv/versions/3.12.2/lib/python3.12/site-packages (from typing-inspect<1,>=0.4.0->dataclasses-json<0.7,>=0.5.7->langchain) (1.0.0)\n",
      "Requirement already satisfied: argon2-cffi-bindings in /Users/Yuhao/.pyenv/versions/3.12.2/lib/python3.12/site-packages (from argon2-cffi->minio>=7.0.0->pymilvus) (21.2.0)\n",
      "Requirement already satisfied: pycparser in /Users/Yuhao/.pyenv/versions/3.12.2/lib/python3.12/site-packages (from cffi>=1.12->cryptography>=2.1.4->azure-storage-blob->pymilvus) (2.22)\n"
     ]
    }
   ],
   "source": [
    "! pip install llama-index nltk milvus pymilvus langchain openai python-dotenv requests llama-index-vector-stores-milvus langchain-openai"
   ]
  },
  {
   "cell_type": "code",
   "execution_count": 11,
   "metadata": {},
   "outputs": [
    {
     "name": "stderr",
     "output_type": "stream",
     "text": [
      "[nltk_data] Downloading package stopwords to /Users/Yuhao/nltk_data...\n",
      "[nltk_data]   Package stopwords is already up-to-date!\n",
      "[nltk_data] Downloading package punkt to /Users/Yuhao/nltk_data...\n",
      "[nltk_data]   Package punkt is already up-to-date!\n"
     ]
    },
    {
     "data": {
      "text/plain": [
       "True"
      ]
     },
     "execution_count": 11,
     "metadata": {},
     "output_type": "execute_result"
    }
   ],
   "source": [
    "import nltk\n",
    "import ssl\n",
    "\n",
    "try:\n",
    "    _create_unverified_https_context = ssl._create_unverified_context\n",
    "except AttributeError:\n",
    "    pass\n",
    "else:\n",
    "    ssl._create_default_https_context = _create_unverified_https_context\n",
    "\n",
    "nltk.download(\"stopwords\")\n",
    "nltk.download(\"punkt\")"
   ]
  },
  {
   "cell_type": "code",
   "execution_count": 10,
   "metadata": {},
   "outputs": [],
   "source": [
    "from llama_index.core import (\n",
    "    VectorStoreIndex, \n",
    "    SimpleKeywordTableIndex, \n",
    "    SimpleDirectoryReader,\n",
    "    StorageContext,\n",
    "    Settings\n",
    ")\n",
    "from llama_index.llms.openai import OpenAI"
   ]
  },
  {
   "cell_type": "code",
   "execution_count": 17,
   "metadata": {},
   "outputs": [],
   "source": [
    "import os\n",
    "from dotenv import load_dotenv\n",
    "#import openai\n",
    "#load_dotenv()\n",
    "#openai.api_key = os.getenv(\"OPENAI_API_KEY\")\n",
    "openai_api_key = \"sk-proj-wKv8NHK3Q2rqsBgWnvEfT3BlbkFJncnFCt2k16h19vvPQ73k\"\n",
    "os.environ[\"OPENAI_API_KEY\"] = openai_api_key\n",
    "\n",
    "from llama_index.vector_stores.milvus import MilvusVectorStore\n",
    "from milvus import default_server"
   ]
  },
  {
   "cell_type": "code",
   "execution_count": 4,
   "metadata": {},
   "outputs": [],
   "source": [
    "default_server.start()\n",
    "#default_server.stop()"
   ]
  },
  {
   "cell_type": "code",
   "execution_count": 5,
   "metadata": {},
   "outputs": [],
   "source": [
    "vector_store = MilvusVectorStore(\n",
    "   host = \"localhost\",\n",
    "   port = default_server.listen_port,\n",
    "   dim=1536\n",
    ")"
   ]
  },
  {
   "cell_type": "code",
   "execution_count": 6,
   "metadata": {},
   "outputs": [],
   "source": [
    "wiki_titles = [\"Toronto\", \"Seattle\", \"San Francisco\", \"Chicago\", \"Boston\", \"Washington, D.C.\", \"Cambridge, Massachusetts\", \"Houston\"]"
   ]
  },
  {
   "cell_type": "code",
   "execution_count": 7,
   "metadata": {},
   "outputs": [],
   "source": [
    "from pathlib import Path\n",
    "\n",
    "import requests\n",
    "for title in wiki_titles:\n",
    "    response = requests.get(\n",
    "        'https://en.wikipedia.org/w/api.php',\n",
    "        params={\n",
    "            'action': 'query',\n",
    "            'format': 'json',\n",
    "            'titles': title,\n",
    "            'prop': 'extracts',\n",
    "            # 'exintro': True,\n",
    "            'explaintext': True,\n",
    "        }\n",
    "    ).json()\n",
    "    page = next(iter(response['query']['pages'].values()))\n",
    "    wiki_text = page['extract']\n",
    "\n",
    "    data_path = Path('data')\n",
    "    if not data_path.exists():\n",
    "        Path.mkdir(data_path)\n",
    "\n",
    "    with open(data_path / f\"{title}.txt\", 'w') as fp:\n",
    "        fp.write(wiki_text)"
   ]
  },
  {
   "cell_type": "code",
   "execution_count": 12,
   "metadata": {},
   "outputs": [],
   "source": [
    "# Load all wiki documents\n",
    "city_docs = {}\n",
    "for wiki_title in wiki_titles:\n",
    "    city_docs[wiki_title] = SimpleDirectoryReader(input_files=[f\"data/{wiki_title}.txt\"]).load_data()"
   ]
  },
  {
   "cell_type": "code",
   "execution_count": 13,
   "metadata": {},
   "outputs": [],
   "source": [
    "llm_predictor_chatgpt = OpenAI(temperature=0, model_name=\"gpt-3.5-turbo\", api_key=openai_api_key)\n",
    "Settings.llm = llm_predictor_chatgpt"
   ]
  },
  {
   "cell_type": "code",
   "execution_count": 14,
   "metadata": {},
   "outputs": [],
   "source": [
    "storage_context = StorageContext.from_defaults(vector_store=vector_store)"
   ]
  },
  {
   "cell_type": "code",
   "execution_count": 18,
   "metadata": {},
   "outputs": [],
   "source": [
    "# Build city document index\n",
    "city_indices = {}\n",
    "index_summaries = {}\n",
    "for wiki_title in wiki_titles:\n",
    "    city_indices[wiki_title] = VectorStoreIndex.from_documents(city_docs[wiki_title], storage_context=storage_context)\n",
    "    # set summary text for city\n",
    "    index_summaries[wiki_title] = f\"Wikipedia articles about {wiki_title}\""
   ]
  },
  {
   "cell_type": "code",
   "execution_count": 20,
   "metadata": {},
   "outputs": [],
   "source": [
    "from llama_index.core import ComposableGraph"
   ]
  },
  {
   "cell_type": "code",
   "execution_count": 21,
   "metadata": {},
   "outputs": [],
   "source": [
    "graph = ComposableGraph.from_indices(\n",
    "    SimpleKeywordTableIndex,\n",
    "    [index for _, index in city_indices.items()], \n",
    "    [summary for _, summary in index_summaries.items()],\n",
    "    max_keywords_per_chunk=50\n",
    ")"
   ]
  },
  {
   "cell_type": "code",
   "execution_count": 55,
   "metadata": {},
   "outputs": [],
   "source": [
    "from llama_index.core.indices.query.query_transform.base import DecomposeQueryTransform\n",
    "decompose_transform = DecomposeQueryTransform(\n",
    "    llm_predictor_chatgpt, verbose=True\n",
    ")"
   ]
  },
  {
   "cell_type": "code",
   "execution_count": 57,
   "metadata": {},
   "outputs": [],
   "source": [
    "from llama_index.core.query_engine.transform_query_engine import TransformQueryEngine\n",
    "custom_query_engines = {}"
   ]
  },
  {
   "cell_type": "code",
   "execution_count": 62,
   "metadata": {},
   "outputs": [],
   "source": [
    "for index in city_indices.values():\n",
    "    query_engine = index.as_query_engine(llm=Settings.llm)\n",
    "    transform_extra_info = {'index_summary': index.index_struct.summary}\n",
    "    tranformed_query_engine = TransformQueryEngine(query_engine, decompose_transform, transform_metadata=transform_extra_info)\n",
    "    custom_query_engines[index.index_id] = tranformed_query_engine\n",
    "\n",
    "custom_query_engines[graph.root_index.index_id] = graph.root_index.as_query_engine(\n",
    "    retriever_mode='simple', \n",
    "    response_mode='tree_summarize', \n",
    "    llm=Settings.llm\n",
    ")\n",
    "\n",
    "query_engine_decompose = graph.as_query_engine(\n",
    "    custom_query_engines=custom_query_engines,)"
   ]
  },
  {
   "cell_type": "code",
   "execution_count": 63,
   "metadata": {},
   "outputs": [
    {
     "name": "stdout",
     "output_type": "stream",
     "text": [
      "\u001b[1;3;33m> Current query: Compare and contrast the airports in Seattle and Houston. \n",
      "\u001b[0m\u001b[1;3;38;5;200m> New query: What are some key features of the airports in Houston according to Wikipedia?\n",
      "\u001b[0m\u001b[1;3;33m> Current query: Compare and contrast the airports in Seattle and Houston. \n",
      "\u001b[0m\u001b[1;3;38;5;200m> New query: What are some key features of the airports in Houston according to Wikipedia?\n",
      "\u001b[0m\u001b[1;3;33m> Current query: Compare and contrast the airports in Seattle and Houston. \n",
      "\u001b[0m\u001b[1;3;38;5;200m> New query: What are some key features of the airport in Seattle according to the Wikipedia article?\n",
      "\u001b[0m\u001b[1;3;33m> Current query: Compare and contrast the airports in Seattle and Houston. \n",
      "\u001b[0m\u001b[1;3;38;5;200m> New query: What are some key features of the Seattle airport according to the Wikipedia article?\n",
      "\u001b[0m"
     ]
    }
   ],
   "source": [
    "response_chatgpt = query_engine_decompose.query(\n",
    "    \"Compare and contrast the airports in Seattle and Houston. \"\n",
    ")"
   ]
  },
  {
   "cell_type": "code",
   "execution_count": 64,
   "metadata": {},
   "outputs": [
    {
     "name": "stdout",
     "output_type": "stream",
     "text": [
      "The airports in Houston are overseen by the Houston Airport System and operate three major public airports: George Bush Intercontinental Airport, William P. Hobby Airport, and Ellington Airport. These airports offer commercial aviation services to domestic and international destinations, serving a significant number of passengers annually. They have received awards for airport improvement programs and customer service, and are recognized for their international travel services. Additionally, they serve as hubs for major airlines like United Airlines.\n",
      "\n",
      "On the other hand, the Seattle airport is known as Seattle–Tacoma International Airport, or Sea-Tac Airport, and is operated by the Port of Seattle. It offers commercial air service to destinations worldwide. Seattle also has Boeing Field, which is closer to downtown and is utilized for general aviation, cargo flights, and for testing and delivery of Boeing airliners. Paine Field, another airport in Seattle, opened in 2019 and is primarily focused on serving Boeing and its nearby large assembly plant.\n"
     ]
    }
   ],
   "source": [
    "print(str(response_chatgpt))"
   ]
  },
  {
   "cell_type": "code",
   "execution_count": 65,
   "metadata": {},
   "outputs": [
    {
     "ename": "NameError",
     "evalue": "name 'service_context' is not defined",
     "output_type": "error",
     "traceback": [
      "\u001b[0;31m---------------------------------------------------------------------------\u001b[0m",
      "\u001b[0;31mNameError\u001b[0m                                 Traceback (most recent call last)",
      "Cell \u001b[0;32mIn[65], line 3\u001b[0m\n\u001b[1;32m      1\u001b[0m custom_query_engines \u001b[38;5;241m=\u001b[39m {}\n\u001b[1;32m      2\u001b[0m \u001b[38;5;28;01mfor\u001b[39;00m index \u001b[38;5;129;01min\u001b[39;00m city_indices\u001b[38;5;241m.\u001b[39mvalues():\n\u001b[0;32m----> 3\u001b[0m     query_engine \u001b[38;5;241m=\u001b[39m index\u001b[38;5;241m.\u001b[39mas_query_engine(service_context\u001b[38;5;241m=\u001b[39m\u001b[43mservice_context\u001b[49m)\n\u001b[1;32m      4\u001b[0m     custom_query_engines[index\u001b[38;5;241m.\u001b[39mindex_id] \u001b[38;5;241m=\u001b[39m query_engine\n\u001b[1;32m      6\u001b[0m custom_query_engines[graph\u001b[38;5;241m.\u001b[39mroot_index\u001b[38;5;241m.\u001b[39mindex_id] \u001b[38;5;241m=\u001b[39m graph\u001b[38;5;241m.\u001b[39mroot_index\u001b[38;5;241m.\u001b[39mas_query_engine(\n\u001b[1;32m      7\u001b[0m     retriever_mode\u001b[38;5;241m=\u001b[39m\u001b[38;5;124m'\u001b[39m\u001b[38;5;124msimple\u001b[39m\u001b[38;5;124m'\u001b[39m, \n\u001b[1;32m      8\u001b[0m     response_mode\u001b[38;5;241m=\u001b[39m\u001b[38;5;124m'\u001b[39m\u001b[38;5;124mtree_summarize\u001b[39m\u001b[38;5;124m'\u001b[39m, \n\u001b[1;32m      9\u001b[0m     service_context\u001b[38;5;241m=\u001b[39mservice_context\n\u001b[1;32m     10\u001b[0m )\n",
      "\u001b[0;31mNameError\u001b[0m: name 'service_context' is not defined"
     ]
    }
   ],
   "source": [
    "custom_query_engines = {}\n",
    "for index in city_indices.values():\n",
    "    query_engine = index.as_query_engine(llm=Settings.llm)\n",
    "    custom_query_engines[index.index_id] = query_engine\n",
    "\n",
    "custom_query_engines[graph.root_index.index_id] = graph.root_index.as_query_engine(\n",
    "    retriever_mode='simple', \n",
    "    response_mode='tree_summarize', \n",
    "    lm=Settings.llm\n",
    ")\n",
    "\n",
    "query_engine = graph.as_query_engine(\n",
    "    custom_query_engines=custom_query_engines,    \n",
    ")"
   ]
  },
  {
   "cell_type": "code",
   "execution_count": null,
   "metadata": {},
   "outputs": [],
   "source": [
    "response_chatgpt = query_engine.query(\n",
    "    \"Compare and contrast the airports in Seattle and Houston. \"\n",
    ")\n",
    "str(response_chatgpt)"
   ]
  },
  {
   "cell_type": "code",
   "execution_count": null,
   "metadata": {},
   "outputs": [],
   "source": [
    "response_chatgpt = query_engine_decompose.query(\n",
    "    \"Compare and contrast the sports environment of Houston and Boston. \"\n",
    ")"
   ]
  },
  {
   "cell_type": "code",
   "execution_count": null,
   "metadata": {},
   "outputs": [],
   "source": [
    "str(response_chatgpt)"
   ]
  },
  {
   "cell_type": "code",
   "execution_count": null,
   "metadata": {},
   "outputs": [],
   "source": [
    "from pymilvus import utility, connections\n",
    "\n",
    "connections.connect(host=\"127.0.0.1\", port=default_server.listen_port)\n",
    "for collection in utility.list_collections():\n",
    "    utility.drop_collection(collection)\n",
    "\n",
    "default_server.stop()\n",
    "default_server.cleanup()"
   ]
  },
  {
   "cell_type": "code",
   "execution_count": null,
   "metadata": {},
   "outputs": [],
   "source": []
  }
 ],
 "metadata": {
  "kernelspec": {
   "display_name": "hw_milvus",
   "language": "python",
   "name": "python3"
  },
  "language_info": {
   "codemirror_mode": {
    "name": "ipython",
    "version": 3
   },
   "file_extension": ".py",
   "mimetype": "text/x-python",
   "name": "python",
   "nbconvert_exporter": "python",
   "pygments_lexer": "ipython3",
   "version": "3.12.2"
  },
  "orig_nbformat": 4
 },
 "nbformat": 4,
 "nbformat_minor": 2
}
